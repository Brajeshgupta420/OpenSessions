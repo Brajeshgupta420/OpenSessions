{
 "cells": [
  {
   "cell_type": "markdown",
   "metadata": {},
   "source": [
    "# NumPy (Numerical Python)\n",
    "NumPy is a module that has been optimized for array calculations and works very well with the data processing library \"pandas\"<br />\n",
    "<a href=\"https://www.numpy.org\">Numpy Documentation</a>"
   ]
  },
  {
   "cell_type": "code",
   "execution_count": 1,
   "metadata": {
    "collapsed": true
   },
   "outputs": [],
   "source": [
    "import numpy as np"
   ]
  },
  {
   "cell_type": "code",
   "execution_count": 2,
   "metadata": {},
   "outputs": [
    {
     "name": "stdout",
     "output_type": "stream",
     "text": [
      "Zero matrix\n",
      " [[0. 0. 0.]\n",
      " [0. 0. 0.]]\n"
     ]
    }
   ],
   "source": [
    "z_arr = np.zeros([2,3]) # zero array. Matrix of size 2x3\n",
    "print(\"Zero matrix\\n\",z_arr)"
   ]
  },
  {
   "cell_type": "code",
   "execution_count": 3,
   "metadata": {},
   "outputs": [
    {
     "data": {
      "text/plain": [
       "array([10, 12, 14, 16, 18])"
      ]
     },
     "execution_count": 3,
     "metadata": {},
     "output_type": "execute_result"
    }
   ],
   "source": [
    "# generate an array from a range\n",
    "np.arange(10,20,2) # syntax is np.arange(start, stop, step)"
   ]
  },
  {
   "cell_type": "markdown",
   "metadata": {},
   "source": [
    "From https://docs.scipy.org/doc/numpy/user/quickstart.html\n",
    ">When arange is used with floating point arguments, it is generally not possible to predict the number of elements obtained, due to the finite floating point precision. For this reason, it is usually better to use the function linspace that receives as an argument the number of elements that we want, instead of the step:"
   ]
  },
  {
   "cell_type": "code",
   "execution_count": 4,
   "metadata": {},
   "outputs": [
    {
     "name": "stdout",
     "output_type": "stream",
     "text": [
      "Linearly spaced matrix\n",
      " [ 1.          6.44444444 11.88888889 17.33333333 22.77777778 28.22222222\n",
      " 33.66666667 39.11111111 44.55555556 50.        ]\n"
     ]
    }
   ],
   "source": [
    "z_arr = np.linspace(1,50,10) # array that starts from 1 and ends in 50 with (10-1) linear increments. \n",
    "print(\"Linearly spaced matrix\\n\",z_arr)"
   ]
  },
  {
   "cell_type": "code",
   "execution_count": 5,
   "metadata": {},
   "outputs": [
    {
     "name": "stdout",
     "output_type": "stream",
     "text": [
      "Identity matrix\n",
      " [[1. 0. 0. 0. 0. 0. 0. 0. 0. 0.]\n",
      " [0. 1. 0. 0. 0. 0. 0. 0. 0. 0.]\n",
      " [0. 0. 1. 0. 0. 0. 0. 0. 0. 0.]\n",
      " [0. 0. 0. 1. 0. 0. 0. 0. 0. 0.]\n",
      " [0. 0. 0. 0. 1. 0. 0. 0. 0. 0.]\n",
      " [0. 0. 0. 0. 0. 1. 0. 0. 0. 0.]\n",
      " [0. 0. 0. 0. 0. 0. 1. 0. 0. 0.]\n",
      " [0. 0. 0. 0. 0. 0. 0. 1. 0. 0.]\n",
      " [0. 0. 0. 0. 0. 0. 0. 0. 1. 0.]\n",
      " [0. 0. 0. 0. 0. 0. 0. 0. 0. 1.]]\n"
     ]
    }
   ],
   "source": [
    "z_arr = np.eye(10) # order 10x10\n",
    "print(\"Identity matrix\\n\",z_arr)"
   ]
  },
  {
   "cell_type": "code",
   "execution_count": 6,
   "metadata": {},
   "outputs": [
    {
     "name": "stdout",
     "output_type": "stream",
     "text": [
      "All-ones matrix\n",
      " [[1. 1. 1. 1.]\n",
      " [1. 1. 1. 1.]]\n"
     ]
    }
   ],
   "source": [
    "z_arr = np.ones([2,4])\n",
    "print(\"All-ones matrix\\n\",z_arr)"
   ]
  },
  {
   "cell_type": "code",
   "execution_count": 7,
   "metadata": {},
   "outputs": [
    {
     "name": "stdout",
     "output_type": "stream",
     "text": [
      "Random matrix\n",
      " [[90 66 69 24 18]\n",
      " [23 43 67 25 89]]\n"
     ]
    }
   ],
   "source": [
    "z_arr = np.random.randint(1,100,10).reshape(2,5)\n",
    "print(\"Random matrix\\n\",z_arr)"
   ]
  },
  {
   "cell_type": "code",
   "execution_count": 8,
   "metadata": {},
   "outputs": [
    {
     "name": "stdout",
     "output_type": "stream",
     "text": [
      "Normally distributed random matrix\n",
      " [[-1.45028966  0.15050422  1.25962968 -0.47891137  0.10742101]\n",
      " [-0.62421736 -2.47876874 -0.20904139  0.41184466 -0.5314038 ]]\n",
      "Normally distributed random matrix normalized between the integer ranges [0,255]\n",
      " [[ 70 179 254 136 176]\n",
      " [126   0 154 197 132]]\n"
     ]
    }
   ],
   "source": [
    "z_arr = np.random.normal(0,1,10).reshape(2,5)\n",
    "print(\"Normally distributed random matrix\\n\",z_arr)\n",
    "z_arr = z_arr+abs(z_arr.min())\n",
    "z_arr = (255*z_arr/z_arr.max()).astype(int)\n",
    "print(\"Normally distributed random matrix normalized between the integer ranges [0,255]\\n\",z_arr)"
   ]
  },
  {
   "cell_type": "markdown",
   "metadata": {},
   "source": [
    "Several important and useful functions and attributes for numpy arrays (alias ndarray) can be found <a href=\"https://docs.scipy.org/doc/numpy/user/quickstart.html\">here</a>.\n",
    "A few examples are\n",
    "- ndarray.shape (order of the multidimensional array)\n",
    "- ndarray.dtype (datatype of elements in the array)\n",
    "- ndarray.ndim (number of dimensions of an array)"
   ]
  },
  {
   "cell_type": "markdown",
   "metadata": {},
   "source": [
    "## _Concatenating numpy arrays_"
   ]
  },
  {
   "cell_type": "code",
   "execution_count": 9,
   "metadata": {},
   "outputs": [
    {
     "name": "stdout",
     "output_type": "stream",
     "text": [
      "[[1 2 3]\n",
      " [4 2 6]\n",
      " [3 4 5]\n",
      " [6 3 5]]\n",
      "[[1 2 3 3 4 5]\n",
      " [4 2 6 6 3 5]]\n"
     ]
    }
   ],
   "source": [
    "a = np.array([\n",
    "    [1,2,3],\n",
    "    [4,2,6]\n",
    "])\n",
    "b = np.array([\n",
    "    [3,4,5],\n",
    "    [6,3,5]\n",
    "])\n",
    "print(np.concatenate((a,b),axis=0)) # stacking vertically (by columns)\n",
    "print(np.concatenate((a,b),axis=1)) # stacking horizontally (by rows)"
   ]
  },
  {
   "cell_type": "code",
   "execution_count": 10,
   "metadata": {},
   "outputs": [
    {
     "name": "stdout",
     "output_type": "stream",
     "text": [
      "(10, 10, 3)\n"
     ]
    }
   ],
   "source": [
    "a_arr = np.random.randint(low=0,high=255,size=100).reshape(10,10,1)\n",
    "b_arr = np.random.randint(0,255,100).reshape(10,10,1)\n",
    "c_arr = np.random.randint(0,255,100).reshape(10,10,1)\n",
    "\n",
    "d_arr = np.concatenate([a_arr,b_arr,c_arr],axis=2)\n",
    "print(d_arr.shape)"
   ]
  },
  {
   "cell_type": "code",
   "execution_count": 11,
   "metadata": {},
   "outputs": [
    {
     "data": {
      "text/plain": [
       "array([[212,  62,  99, 187,  70,   2, 220,  96, 241, 156],\n",
       "       [214, 202,  56, 160, 184, 112,  74, 123, 177, 114],\n",
       "       [ 87, 142, 163,  53,  35,  33, 112, 172, 155, 218],\n",
       "       [216, 241,  58,  10,  29,  87,  24,  61, 211, 120],\n",
       "       [106, 193, 120, 163, 210, 215, 120,   4, 163, 152],\n",
       "       [140,  53, 116, 224, 233, 103,  56, 155,  85,  14],\n",
       "       [ 85,  22, 223,   1, 132, 123, 111, 108, 215,  14],\n",
       "       [244,  66,  85, 158, 218, 222,  95, 114, 183,  14],\n",
       "       [ 96, 207,  45, 130,  69, 140, 139, 253, 199, 234],\n",
       "       [173,  57, 114,  85,  89,  87,  96,  86, 228,  67]])"
      ]
     },
     "execution_count": 11,
     "metadata": {},
     "output_type": "execute_result"
    }
   ],
   "source": [
    "d_arr[:,:,0]"
   ]
  },
  {
   "cell_type": "markdown",
   "metadata": {},
   "source": [
    "Flattening an array refers to collapsing all the dimensions into one."
   ]
  },
  {
   "cell_type": "code",
   "execution_count": 12,
   "metadata": {},
   "outputs": [
    {
     "name": "stdout",
     "output_type": "stream",
     "text": [
      "int32\n"
     ]
    },
    {
     "data": {
      "text/plain": [
       "array([[159,  25,  26, 248, 105, 146, 139,  80, 142, 153],\n",
       "       [223, 130, 192, 152,  64,   2, 120, 153, 242, 204],\n",
       "       [ 54, 244, 159, 116, 136,  30,  16, 221, 147, 192],\n",
       "       [ 93,   5, 159,   6, 225, 160, 154,  80, 156,  65],\n",
       "       [ 84, 179,  72,  42,  90, 181,  58, 119,  23, 131],\n",
       "       [118,  17, 138,  32,   0, 159, 177, 239, 194, 127],\n",
       "       [101,  22,  78,  36,  42, 145, 192,  38, 118, 205],\n",
       "       [101, 209,  90, 156,  44,  32, 247, 184,   0,  32],\n",
       "       [216, 211,  21, 138,  39, 235, 153,  46, 202, 193],\n",
       "       [ 58,   5, 174,  38,  15,  79,  86,  66, 190,  87]], dtype=int16)"
      ]
     },
     "execution_count": 12,
     "metadata": {},
     "output_type": "execute_result"
    }
   ],
   "source": [
    "# d_arr.ravel() is used to unravel the data\n",
    "# d_arr.flatten() may also be used. The difference is that ravel produces a view only while flatten produces a new \n",
    "# copy of the array\n",
    "print(d_arr.dtype)\n",
    "d_arr = d_arr.astype(np.int16) \n",
    "d_arr[:,:,1]"
   ]
  },
  {
   "cell_type": "code",
   "execution_count": 13,
   "metadata": {},
   "outputs": [
    {
     "name": "stdout",
     "output_type": "stream",
     "text": [
      "Mean by column [134.85 114.6  112.55 151.4  118.6 ]\n",
      "Mean by row [126.  143.  163.2 120.   96.  138.  110.8 100.6 158.4 130.8 153.2  82.6\n",
      "  92.6 114.2 154.2 125.6 109.4 193.  103.6 112.8]\n"
     ]
    }
   ],
   "source": [
    "print(\"Mean by column\",np.mean(a_arr.reshape(20,5),axis=0))\n",
    "print(\"Mean by row\",np.mean(a_arr.reshape(20,5),axis=1))"
   ]
  },
  {
   "cell_type": "code",
   "execution_count": 14,
   "metadata": {},
   "outputs": [
    {
     "data": {
      "text/plain": [
       "<matplotlib.image.AxesImage at 0x8d8965a358>"
      ]
     },
     "execution_count": 14,
     "metadata": {},
     "output_type": "execute_result"
    },
    {
     "data": {
      "image/png": "[encoded data removed]",
      "text/plain": [
       "<matplotlib.figure.Figure at 0x8d84ad7470>"
      ]
     },
     "metadata": {},
     "output_type": "display_data"
    }
   ],
   "source": [
    "# drawing a random 10x10 pixelgrid using numpy and the graphing library matplotlib\n",
    "from matplotlib import pyplot as plt\n",
    "# ipython magic\n",
    "%matplotlib inline \n",
    "an = np.random.normal(0,1,100).reshape(10,10,1)\n",
    "bn = np.random.normal(0,1,100).reshape(10,10,1)\n",
    "cn = np.random.normal(0,1,100).reshape(10,10,1)\n",
    "dn = np.concatenate([an,bn,cn],axis=2)\n",
    "plt.imshow(np.array(dn,dtype=np.uint8),interpolation='none') # this function shows the pixel array as an image"
   ]
  },
  {
   "cell_type": "code",
   "execution_count": 15,
   "metadata": {},
   "outputs": [
    {
     "name": "stdout",
     "output_type": "stream",
     "text": [
      "[[[212  62  99 187  70   2 220  96 241 156]\n",
      "  [159  25  26 248 105 146 139  80 142 153]]\n",
      "\n",
      " [[214 202  56 160 184 112  74 123 177 114]\n",
      "  [223 130 192 152  64   2 120 153 242 204]]\n",
      "\n",
      " [[ 87 142 163  53  35  33 112 172 155 218]\n",
      "  [ 54 244 159 116 136  30  16 221 147 192]]\n",
      "\n",
      " [[216 241  58  10  29  87  24  61 211 120]\n",
      "  [ 93   5 159   6 225 160 154  80 156  65]]\n",
      "\n",
      " [[106 193 120 163 210 215 120   4 163 152]\n",
      "  [ 84 179  72  42  90 181  58 119  23 131]]\n",
      "\n",
      " [[140  53 116 224 233 103  56 155  85  14]\n",
      "  [118  17 138  32   0 159 177 239 194 127]]\n",
      "\n",
      " [[ 85  22 223   1 132 123 111 108 215  14]\n",
      "  [101  22  78  36  42 145 192  38 118 205]]\n",
      "\n",
      " [[244  66  85 158 218 222  95 114 183  14]\n",
      "  [101 209  90 156  44  32 247 184   0  32]]\n",
      "\n",
      " [[ 96 207  45 130  69 140 139 253 199 234]\n",
      "  [216 211  21 138  39 235 153  46 202 193]]\n",
      "\n",
      " [[173  57 114  85  89  87  96  86 228  67]\n",
      "  [ 58   5 174  38  15  79  86  66 190  87]]]\n"
     ]
    }
   ],
   "source": [
    "# print(a_arr.reshape(10,10))\n",
    "# print(b_arr.reshape(10,10))\n",
    "print(np.stack((a_arr.reshape(10,10),b_arr.reshape(10,10)),axis=1)) # axis values from 0 to 2 inclusive"
   ]
  },
  {
   "cell_type": "code",
   "execution_count": 16,
   "metadata": {},
   "outputs": [
    {
     "name": "stdout",
     "output_type": "stream",
     "text": [
      "[[  0   0   0   0   0   0   0   0   0   0]\n",
      " [  1 235  43  13 166 143  21 108 200 225]\n",
      " [ 82 203  86 222  56 191  49 123  51  53]\n",
      " [ 92 108  79  21  56  51 224 179 217 140]\n",
      " [195 212  77  78 112 192 214 149  49   5]\n",
      " [ 91 222 221  75  16  39 235 218 251  64]\n",
      " [225 179  62  84 170 104 230  85  64  43]\n",
      " [ 78 127 232  62 247 166  73 252  30   8]\n",
      " [137 108  98  21  57 184 114 138 219  95]\n",
      " [ 48 234 216 196  82  24 225 171   4 252]]\n",
      "[[254 248 150 251  67 133  35 129 240 210]\n",
      " [  1 235  43  13 166 143  21 108 200 225]\n",
      " [ 82 203  86 222  56 191  49 123  51  53]\n",
      " [ 92 108  79  21  56  51 224 179 217 140]\n",
      " [195 212  77  78 112 192 214 149  49   5]\n",
      " [ 91 222 221  75  16  39 235 218 251  64]\n",
      " [225 179  62  84 170 104 230  85  64  43]\n",
      " [ 78 127 232  62 247 166  73 252  30   8]\n",
      " [137 108  98  21  57 184 114 138 219  95]\n",
      " [ 48 234 216 196  82  24 225 171   4 252]]\n"
     ]
    }
   ],
   "source": [
    "a_arr = np.random.randint(low=0,high=255,size=100).reshape(10,10,1)\n",
    "u = a_arr.flatten()\n",
    "a_arr[0]=0\n",
    "print(a_arr.reshape(10,10))\n",
    "print(u.reshape(10,10))"
   ]
  },
  {
   "cell_type": "code",
   "execution_count": null,
   "metadata": {
    "collapsed": true
   },
   "outputs": [],
   "source": []
  }
 ],
 "metadata": {
  "kernelspec": {
   "display_name": "Python 3",
   "language": "python",
   "name": "python3"
  },
  "language_info": {
   "codemirror_mode": {
    "name": "ipython",
    "version": 3
   },
   "file_extension": ".py",
   "mimetype": "text/x-python",
   "name": "python",
   "nbconvert_exporter": "python",
   "pygments_lexer": "ipython3",
   "version": "3.6.3"
  }
 },
 "nbformat": 4,
 "nbformat_minor": 2
}
